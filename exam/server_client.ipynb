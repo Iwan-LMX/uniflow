{
 "cells": [
  {
   "cell_type": "code",
   "execution_count": 16,
   "metadata": {},
   "outputs": [],
   "source": [
    "%reload_ext autoreload\n",
    "%autoreload 2\n",
    "\n",
    "import sys\n",
    "\n",
    "sys.path.append(\".\")\n",
    "sys.path.append(\"..\")\n",
    "sys.path.append(\"../..\")"
   ]
  },
  {
   "cell_type": "code",
   "execution_count": 17,
   "metadata": {},
   "outputs": [],
   "source": [
    "from uniflow.flow.client import FlowDictClient\n",
    "from uniflow.viz import Viz"
   ]
  },
  {
   "cell_type": "code",
   "execution_count": 18,
   "metadata": {},
   "outputs": [
    {
     "ename": "TypeError",
     "evalue": "asdict() should be called on dataclass instances",
     "output_type": "error",
     "traceback": [
      "\u001b[1;31m---------------------------------------------------------------------------\u001b[0m",
      "\u001b[1;31mTypeError\u001b[0m                                 Traceback (most recent call last)",
      "Cell \u001b[1;32mIn[18], line 1\u001b[0m\n\u001b[1;32m----> 1\u001b[0m client \u001b[38;5;241m=\u001b[39m \u001b[43mFlowDictClient\u001b[49m\u001b[43m(\u001b[49m\u001b[38;5;124;43m\"\u001b[39;49m\u001b[38;5;124;43mexpand_reduce_flow\u001b[39;49m\u001b[38;5;124;43m\"\u001b[39;49m\u001b[43m)\u001b[49m\n\u001b[0;32m      2\u001b[0m \u001b[38;5;28minput\u001b[39m \u001b[38;5;241m=\u001b[39m [{\u001b[38;5;124m\"\u001b[39m\u001b[38;5;124mHow are you?\u001b[39m\u001b[38;5;124m\"\u001b[39m: \u001b[38;5;124m\"\u001b[39m\u001b[38;5;124mFine.\u001b[39m\u001b[38;5;124m\"\u001b[39m, \u001b[38;5;124m\"\u001b[39m\u001b[38;5;124mWho are you?\u001b[39m\u001b[38;5;124m\"\u001b[39m: \u001b[38;5;124m\"\u001b[39m\u001b[38;5;124mI am Bob.\u001b[39m\u001b[38;5;124m\"\u001b[39m}, {\u001b[38;5;124m\"\u001b[39m\u001b[38;5;124mWhere are you?\u001b[39m\u001b[38;5;124m\"\u001b[39m: \u001b[38;5;124m\"\u001b[39m\u001b[38;5;124mI am at home.\u001b[39m\u001b[38;5;124m\"\u001b[39m, \u001b[38;5;124m\"\u001b[39m\u001b[38;5;124mWhat are you doing?\u001b[39m\u001b[38;5;124m\"\u001b[39m: \u001b[38;5;124m\"\u001b[39m\u001b[38;5;124mCoding.\u001b[39m\u001b[38;5;124m\"\u001b[39m}]\n\u001b[0;32m      3\u001b[0m output \u001b[38;5;241m=\u001b[39m client\u001b[38;5;241m.\u001b[39mrun(\u001b[38;5;28minput\u001b[39m)\n",
      "File \u001b[1;32me:\\3_Program\\13_Project\\uniflow\\exam\\..\\uniflow\\flow\\client.py:119\u001b[0m, in \u001b[0;36mFlowDictClient.__init__\u001b[1;34m(self, config)\u001b[0m\n\u001b[0;32m    112\u001b[0m \u001b[38;5;250m\u001b[39m\u001b[38;5;124;03m\"\"\"Client constructor\u001b[39;00m\n\u001b[0;32m    113\u001b[0m \n\u001b[0;32m    114\u001b[0m \u001b[38;5;124;03mArgs:\u001b[39;00m\n\u001b[0;32m    115\u001b[0m \u001b[38;5;124;03m    config (Config): Config for the flow\u001b[39;00m\n\u001b[0;32m    116\u001b[0m \n\u001b[0;32m    117\u001b[0m \u001b[38;5;124;03m\"\"\"\u001b[39;00m\n\u001b[0;32m    118\u001b[0m \u001b[38;5;28mself\u001b[39m\u001b[38;5;241m.\u001b[39m_config \u001b[38;5;241m=\u001b[39m config\n\u001b[1;32m--> 119\u001b[0m \u001b[38;5;28mself\u001b[39m\u001b[38;5;241m.\u001b[39m_server \u001b[38;5;241m=\u001b[39m FlowDictServer(\u001b[43masdict\u001b[49m\u001b[43m(\u001b[49m\u001b[38;5;28;43mself\u001b[39;49m\u001b[38;5;241;43m.\u001b[39;49m\u001b[43m_config\u001b[49m\u001b[43m)\u001b[49m)\n",
      "File \u001b[1;32ma:\\16_Environments\\5_Conda\\envs\\uniflow\\Lib\\dataclasses.py:1319\u001b[0m, in \u001b[0;36masdict\u001b[1;34m(obj, dict_factory)\u001b[0m\n\u001b[0;32m   1300\u001b[0m \u001b[38;5;250m\u001b[39m\u001b[38;5;124;03m\"\"\"Return the fields of a dataclass instance as a new dictionary mapping\u001b[39;00m\n\u001b[0;32m   1301\u001b[0m \u001b[38;5;124;03mfield names to field values.\u001b[39;00m\n\u001b[0;32m   1302\u001b[0m \n\u001b[1;32m   (...)\u001b[0m\n\u001b[0;32m   1316\u001b[0m \u001b[38;5;124;03mtuples, lists, and dicts. Other objects are copied with 'copy.deepcopy()'.\u001b[39;00m\n\u001b[0;32m   1317\u001b[0m \u001b[38;5;124;03m\"\"\"\u001b[39;00m\n\u001b[0;32m   1318\u001b[0m \u001b[38;5;28;01mif\u001b[39;00m \u001b[38;5;129;01mnot\u001b[39;00m _is_dataclass_instance(obj):\n\u001b[1;32m-> 1319\u001b[0m     \u001b[38;5;28;01mraise\u001b[39;00m \u001b[38;5;167;01mTypeError\u001b[39;00m(\u001b[38;5;124m\"\u001b[39m\u001b[38;5;124masdict() should be called on dataclass instances\u001b[39m\u001b[38;5;124m\"\u001b[39m)\n\u001b[0;32m   1320\u001b[0m \u001b[38;5;28;01mreturn\u001b[39;00m _asdict_inner(obj, dict_factory)\n",
      "\u001b[1;31mTypeError\u001b[0m: asdict() should be called on dataclass instances"
     ]
    }
   ],
   "source": [
    "client = FlowDictClient(\"expand_reduce_flow\")\n",
    "input = [{\"How are you?\": \"Fine.\", \"Who are you?\": \"I am Bob.\"}, {\"Where are you?\": \"I am at home.\", \"What are you doing?\": \"Coding.\"}]\n",
    "output = client.run(input)\n",
    "\n",
    "#Sorry I really don't now how to fix this here. :("
   ]
  },
  {
   "cell_type": "code",
   "execution_count": null,
   "metadata": {},
   "outputs": [
    {
     "ename": "NameError",
     "evalue": "name 'output' is not defined",
     "output_type": "error",
     "traceback": [
      "\u001b[1;31m---------------------------------------------------------------------------\u001b[0m",
      "\u001b[1;31mNameError\u001b[0m                                 Traceback (most recent call last)",
      "Cell \u001b[1;32mIn[9], line 1\u001b[0m\n\u001b[1;32m----> 1\u001b[0m \u001b[43moutput\u001b[49m\n",
      "\u001b[1;31mNameError\u001b[0m: name 'output' is not defined"
     ]
    }
   ],
   "source": [
    "output"
   ]
  },
  {
   "cell_type": "code",
   "execution_count": null,
   "metadata": {},
   "outputs": [],
   "source": [
    "graph = Viz.to_digraph(output[1][\"root\"])\n"
   ]
  },
  {
   "cell_type": "code",
   "execution_count": null,
   "metadata": {},
   "outputs": [
    {
     "data": {
      "image/svg+xml": [
       "<?xml version=\"1.0\" encoding=\"UTF-8\" standalone=\"no\"?>\n",
       "<!DOCTYPE svg PUBLIC \"-//W3C//DTD SVG 1.1//EN\"\n",
       " \"http://www.w3.org/Graphics/SVG/1.1/DTD/svg11.dtd\">\n",
       "<!-- Generated by graphviz version 9.0.0 (20230911.1827)\n",
       " -->\n",
       "<!-- Pages: 1 -->\n",
       "<svg width=\"352pt\" height=\"188pt\"\n",
       " viewBox=\"0.00 0.00 352.10 188.00\" xmlns=\"http://www.w3.org/2000/svg\" xmlns:xlink=\"http://www.w3.org/1999/xlink\">\n",
       "<g id=\"graph0\" class=\"graph\" transform=\"scale(1 1) rotate(0) translate(4 184)\">\n",
       "<polygon fill=\"white\" stroke=\"none\" points=\"-4,4 -4,-184 348.1,-184 348.1,4 -4,4\"/>\n",
       "<!-- root -->\n",
       "<g id=\"node1\" class=\"node\">\n",
       "<title>root</title>\n",
       "<ellipse fill=\"none\" stroke=\"black\" cx=\"171.55\" cy=\"-162\" rx=\"27\" ry=\"18\"/>\n",
       "<text text-anchor=\"middle\" x=\"171.55\" y=\"-156.95\" font-family=\"Times,serif\" font-size=\"14.00\">root</text>\n",
       "</g>\n",
       "<!-- thread_1/expand_1 -->\n",
       "<g id=\"node2\" class=\"node\">\n",
       "<title>thread_1/expand_1</title>\n",
       "<ellipse fill=\"none\" stroke=\"black\" cx=\"81.55\" cy=\"-90\" rx=\"81.55\" ry=\"18\"/>\n",
       "<text text-anchor=\"middle\" x=\"81.55\" y=\"-84.95\" font-family=\"Times,serif\" font-size=\"14.00\">thread_1/expand_1</text>\n",
       "</g>\n",
       "<!-- root&#45;&gt;thread_1/expand_1 -->\n",
       "<g id=\"edge1\" class=\"edge\">\n",
       "<title>root&#45;&gt;thread_1/expand_1</title>\n",
       "<path fill=\"none\" stroke=\"black\" d=\"M154.62,-147.83C142.67,-138.54 126.33,-125.83 112.13,-114.79\"/>\n",
       "<polygon fill=\"black\" stroke=\"black\" points=\"114.42,-112.13 104.37,-108.75 110.12,-117.66 114.42,-112.13\"/>\n",
       "</g>\n",
       "<!-- thread_1/expand_2 -->\n",
       "<g id=\"node3\" class=\"node\">\n",
       "<title>thread_1/expand_2</title>\n",
       "<ellipse fill=\"none\" stroke=\"black\" cx=\"262.55\" cy=\"-90\" rx=\"81.55\" ry=\"18\"/>\n",
       "<text text-anchor=\"middle\" x=\"262.55\" y=\"-84.95\" font-family=\"Times,serif\" font-size=\"14.00\">thread_1/expand_2</text>\n",
       "</g>\n",
       "<!-- root&#45;&gt;thread_1/expand_2 -->\n",
       "<g id=\"edge2\" class=\"edge\">\n",
       "<title>root&#45;&gt;thread_1/expand_2</title>\n",
       "<path fill=\"none\" stroke=\"black\" d=\"M188.66,-147.83C200.74,-138.54 217.27,-125.83 231.62,-114.79\"/>\n",
       "<polygon fill=\"black\" stroke=\"black\" points=\"233.69,-117.62 239.48,-108.75 229.42,-112.07 233.69,-117.62\"/>\n",
       "</g>\n",
       "<!-- thread_1/reduce_1 -->\n",
       "<g id=\"node4\" class=\"node\">\n",
       "<title>thread_1/reduce_1</title>\n",
       "<ellipse fill=\"none\" stroke=\"black\" cx=\"171.55\" cy=\"-18\" rx=\"79.5\" ry=\"18\"/>\n",
       "<text text-anchor=\"middle\" x=\"171.55\" y=\"-12.95\" font-family=\"Times,serif\" font-size=\"14.00\">thread_1/reduce_1</text>\n",
       "</g>\n",
       "<!-- thread_1/expand_1&#45;&gt;thread_1/reduce_1 -->\n",
       "<g id=\"edge3\" class=\"edge\">\n",
       "<title>thread_1/expand_1&#45;&gt;thread_1/reduce_1</title>\n",
       "<path fill=\"none\" stroke=\"black\" d=\"M102.88,-72.41C114.34,-63.5 128.66,-52.36 141.26,-42.56\"/>\n",
       "<polygon fill=\"black\" stroke=\"black\" points=\"143.12,-45.54 148.87,-36.64 138.82,-40.02 143.12,-45.54\"/>\n",
       "</g>\n",
       "<!-- thread_1/expand_2&#45;&gt;thread_1/reduce_1 -->\n",
       "<g id=\"edge4\" class=\"edge\">\n",
       "<title>thread_1/expand_2&#45;&gt;thread_1/reduce_1</title>\n",
       "<path fill=\"none\" stroke=\"black\" d=\"M240.98,-72.41C229.39,-63.5 214.91,-52.36 202.17,-42.56\"/>\n",
       "<polygon fill=\"black\" stroke=\"black\" points=\"204.53,-39.96 194.47,-36.64 200.27,-45.51 204.53,-39.96\"/>\n",
       "</g>\n",
       "</g>\n",
       "</svg>\n"
      ],
      "text/plain": [
       "<graphviz.graphs.Digraph at 0x108c3f7f0>"
      ]
     },
     "metadata": {},
     "output_type": "display_data"
    }
   ],
   "source": [
    "display(graph)"
   ]
  }
 ],
 "metadata": {
  "kernelspec": {
   "display_name": "uniflow",
   "language": "python",
   "name": "python3"
  },
  "language_info": {
   "codemirror_mode": {
    "name": "ipython",
    "version": 3
   },
   "file_extension": ".py",
   "mimetype": "text/x-python",
   "name": "python",
   "nbconvert_exporter": "python",
   "pygments_lexer": "ipython3",
   "version": "3.12.1"
  }
 },
 "nbformat": 4,
 "nbformat_minor": 2
}
